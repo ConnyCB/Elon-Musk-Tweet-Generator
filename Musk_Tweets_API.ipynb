{
 "cells": [
  {
   "cell_type": "markdown",
   "id": "5491f217-909c-4c99-ac16-1bb533fe4524",
   "metadata": {},
   "source": [
    "# Elon Musk Tweet Generator API"
   ]
  },
  {
   "cell_type": "code",
   "execution_count": 1,
   "id": "7637e570-e139-4dfa-9a06-e01de8a5c93e",
   "metadata": {},
   "outputs": [
    {
     "name": "stderr",
     "output_type": "stream",
     "text": [
      "C:\\Users\\Conny\\anaconda3\\envs\\tf-gpu\\lib\\site-packages\\tqdm\\auto.py:22: TqdmWarning: IProgress not found. Please update jupyter and ipywidgets. See https://ipywidgets.readthedocs.io/en/stable/user_install.html\n",
      "  from .autonotebook import tqdm as notebook_tqdm\n"
     ]
    }
   ],
   "source": [
    "from fastapi import FastAPI\n",
    "from transformers import GPT2Tokenizer, GPT2LMHeadModel\n",
    "from fastapi.middleware.cors import CORSMiddleware\n",
    "import uvicorn\n",
    "from uvicorn import Config, Server\n",
    "import nest_asyncio\n",
    "\n",
    "#Enviroment: tf-gpu"
   ]
  },
  {
   "cell_type": "code",
   "execution_count": null,
   "id": "ec349ada-0636-4b18-ad3b-704a7b24edb7",
   "metadata": {},
   "outputs": [
    {
     "name": "stderr",
     "output_type": "stream",
     "text": [
      "C:\\Users\\Conny\\anaconda3\\envs\\tf-gpu\\lib\\site-packages\\transformers\\modeling_utils.py:367: FutureWarning: You are using `torch.load` with `weights_only=False` (the current default value), which uses the default pickle module implicitly. It is possible to construct malicious pickle data which will execute arbitrary code during unpickling (See https://github.com/pytorch/pytorch/blob/main/SECURITY.md#untrusted-models for more details). In a future release, the default value for `weights_only` will be flipped to `True`. This limits the functions that could be executed during unpickling. Arbitrary objects will no longer be allowed to be loaded via this mode unless they are explicitly allowlisted by the user via `torch.serialization.add_safe_globals`. We recommend you start setting `weights_only=True` for any use case where you don't have full control of the loaded file. Please open an issue on GitHub for any issues related to this experimental feature.\n",
      "  return torch.load(checkpoint_file, map_location=\"cpu\")\n",
      "INFO:     Started server process [26824]\n",
      "INFO:     Waiting for application startup.\n",
      "INFO:     Application startup complete.\n",
      "INFO:     Uvicorn running on http://127.0.0.1:8000 (Press CTRL+C to quit)\n"
     ]
    },
    {
     "name": "stdout",
     "output_type": "stream",
     "text": [
      "INFO:     127.0.0.1:52696 - \"GET / HTTP/1.1\" 200 OK\n",
      "INFO:     127.0.0.1:52697 - \"GET /docs HTTP/1.1\" 200 OK\n",
      "INFO:     127.0.0.1:52744 - \"GET /docs HTTP/1.1\" 200 OK\n",
      "INFO:     127.0.0.1:52744 - \"GET /openapi.json HTTP/1.1\" 200 OK\n"
     ]
    },
    {
     "name": "stderr",
     "output_type": "stream",
     "text": [
      "Setting `pad_token_id` to `eos_token_id`:50256 for open-end generation.\n",
      "C:\\Users\\Conny\\anaconda3\\envs\\tf-gpu\\lib\\site-packages\\transformers\\generation_utils.py:1202: UserWarning: Neither `max_length` nor `max_new_tokens` have been set, `max_length` will default to 20 (`self.config.max_length`). Controlling `max_length` via the config is deprecated and `max_length` will be removed from the config in v5 of Transformers -- we recommend using `max_new_tokens` to control the maximum length of the generation.\n",
      "  warnings.warn(\n"
     ]
    },
    {
     "name": "stdout",
     "output_type": "stream",
     "text": [
      "INFO:     127.0.0.1:52759 - \"POST /generate_tweet?prompt=elon%20musk%20will HTTP/1.1\" 200 OK\n",
      "INFO:     127.0.0.1:63331 - \"GET / HTTP/1.1\" 200 OK\n",
      "INFO:     127.0.0.1:65051 - \"GET /docs HTTP/1.1\" 200 OK\n",
      "INFO:     127.0.0.1:65318 - \"GET / HTTP/1.1\" 200 OK\n",
      "INFO:     127.0.0.1:65319 - \"GET /docs HTTP/1.1\" 200 OK\n",
      "INFO:     127.0.0.1:65319 - \"GET /openapi.json HTTP/1.1\" 200 OK\n"
     ]
    },
    {
     "name": "stderr",
     "output_type": "stream",
     "text": [
      "Setting `pad_token_id` to `eos_token_id`:50256 for open-end generation.\n",
      "C:\\Users\\Conny\\anaconda3\\envs\\tf-gpu\\lib\\site-packages\\transformers\\generation_utils.py:1202: UserWarning: Neither `max_length` nor `max_new_tokens` have been set, `max_length` will default to 20 (`self.config.max_length`). Controlling `max_length` via the config is deprecated and `max_length` will be removed from the config in v5 of Transformers -- we recommend using `max_new_tokens` to control the maximum length of the generation.\n",
      "  warnings.warn(\n"
     ]
    },
    {
     "name": "stdout",
     "output_type": "stream",
     "text": [
      "INFO:     127.0.0.1:65463 - \"POST /generate_tweet?prompt=tesla%20is HTTP/1.1\" 200 OK\n"
     ]
    }
   ],
   "source": [
    "app = FastAPI()\n",
    "\n",
    "app.add_middleware(\n",
    "    CORSMiddleware,\n",
    "    allow_origins=['*'],\n",
    "    allow_credentials=True,\n",
    "    allow_methods=['*'],\n",
    "    allow_headers=['*'],\n",
    ")\n",
    "\n",
    "# Modell und Tokenizer laden\n",
    "model = GPT2LMHeadModel.from_pretrained(\"./saved_model\")\n",
    "tokenizer = GPT2Tokenizer.from_pretrained(\"./saved_model\")\n",
    "\n",
    "@app.get(\"/\")\n",
    "def root():\n",
    "    return {\"message\": \"This an Elon Musk Tweet Generator API test.\"}\n",
    "\n",
    "@app.post(\"/generate_tweet\")\n",
    "def generate_tweet_for_user(prompt):\n",
    "  inputs = tokenizer(prompt, return_tensors=\"pt\")\n",
    "  outputs = model.generate(**inputs)\n",
    "  generated_tweet = tokenizer.decode(outputs[0])\n",
    "  return generated_tweet\n",
    "\n",
    "nest_asyncio.apply()\n",
    "uvicorn.run(app, port=8000)"
   ]
  },
  {
   "cell_type": "markdown",
   "id": "a2f5958e-aa72-4cf4-9cae-1e76adf0d937",
   "metadata": {},
   "source": [
    "**API Test:**  \n",
    "\n",
    "Klick auf die ausgegebene URL http://127.0.0.1:8000    \n",
    "\n",
    "Es erscheint der Text {\"message\":\"This an Elon Musk Tweet Generator API test.\"}\n",
    "\n",
    "**Swagger UI Aufruf:**   \n",
    " \n",
    "durch Anhänger von /docs an die URL   \n",
    "\n",
    "Es wird eine grafische Benutzeroberfläche ausgegeben, mit der die Anwendung direkt genutzt werden kann, hier durch Eingabe eines Promt (POST Button klicken und dann Try it Out Button)  "
   ]
  },
  {
   "cell_type": "code",
   "execution_count": null,
   "id": "5138494a-4e77-4dd2-9f21-52cb409d6440",
   "metadata": {},
   "outputs": [],
   "source": []
  }
 ],
 "metadata": {
  "kernelspec": {
   "display_name": "Python 3 (ipykernel)",
   "language": "python",
   "name": "python3"
  },
  "language_info": {
   "codemirror_mode": {
    "name": "ipython",
    "version": 3
   },
   "file_extension": ".py",
   "mimetype": "text/x-python",
   "name": "python",
   "nbconvert_exporter": "python",
   "pygments_lexer": "ipython3",
   "version": "3.9.12"
  }
 },
 "nbformat": 4,
 "nbformat_minor": 5
}
